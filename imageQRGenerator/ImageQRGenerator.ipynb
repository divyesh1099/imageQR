{
  "cells": [
    {
      "cell_type": "markdown",
      "metadata": {
        "id": "nkC8YJlUskQw"
      },
      "source": [
        "# Image in QR Code"
      ]
    },
    {
      "cell_type": "markdown",
      "metadata": {
        "id": "TXkpH4cBuEov"
      },
      "source": [
        "## Generate Monochrome BMP/Grayscale PNG"
      ]
    },
    {
      "cell_type": "code",
      "execution_count": 1,
      "metadata": {
        "colab": {
          "base_uri": "https://localhost:8080/"
        },
        "id": "5Pz-lwqyuU9e",
        "outputId": "a9043ccd-2184-4348-9aa6-289b503b3aa2"
      },
      "outputs": [
        {
          "name": "stdout",
          "output_type": "stream",
          "text": [
            "Requirement already satisfied: pillow in c:\\users\\dell\\anaconda3\\lib\\site-packages (10.4.0)\n"
          ]
        }
      ],
      "source": [
        "!pip install pillow"
      ]
    },
    {
      "cell_type": "code",
      "execution_count": 2,
      "metadata": {
        "id": "SWOG3cyKuY7u"
      },
      "outputs": [],
      "source": [
        "from PIL import Image, ImageDraw\n",
        "\n",
        "# Monochrome BMP example\n",
        "def create_monochrome_bmp(filename=\"image.bmp\", size=(100, 100)):\n",
        "    img = Image.new('1', size, color=1)  # 1-bit image, white background\n",
        "    draw = ImageDraw.Draw(img)\n",
        "    draw.rectangle([20, 20, 80, 80], fill=0)  # black rectangle\n",
        "    img.save(filename, format=\"BMP\")\n",
        "\n",
        "# Grayscale PNG example\n",
        "def create_grayscale_png(filename=\"image.png\", size=(100, 100)):\n",
        "    img = Image.new('L', size, color=255)  # 8-bit grayscale, white background\n",
        "    draw = ImageDraw.Draw(img)\n",
        "    draw.ellipse([25, 25, 75, 75], fill=128)  # gray circle\n",
        "    img.save(filename, format=\"PNG\")\n",
        "\n",
        "# Example Usage\n",
        "create_monochrome_bmp()\n",
        "create_grayscale_png()\n"
      ]
    },
    {
      "cell_type": "markdown",
      "metadata": {
        "id": "SLyNyDQWunbT"
      },
      "source": [
        "## Embed the Image in QR"
      ]
    },
    {
      "cell_type": "code",
      "execution_count": 3,
      "metadata": {
        "colab": {
          "base_uri": "https://localhost:8080/"
        },
        "id": "6xHPI6m5ssRZ",
        "outputId": "9ed647c6-e5e2-44ac-e74c-a4f074957098"
      },
      "outputs": [
        {
          "name": "stdout",
          "output_type": "stream",
          "text": [
            "Collecting qrcode[pil]\n",
            "  Downloading qrcode-8.0-py3-none-any.whl.metadata (17 kB)\n",
            "Requirement already satisfied: colorama in c:\\users\\dell\\appdata\\roaming\\python\\python312\\site-packages (from qrcode[pil]) (0.4.6)\n",
            "Requirement already satisfied: pillow>=9.1.0 in c:\\users\\dell\\anaconda3\\lib\\site-packages (from qrcode[pil]) (10.4.0)\n",
            "Downloading qrcode-8.0-py3-none-any.whl (45 kB)\n",
            "Installing collected packages: qrcode\n",
            "Successfully installed qrcode-8.0\n"
          ]
        }
      ],
      "source": [
        "!pip install qrcode[pil]"
      ]
    },
    {
      "cell_type": "code",
      "execution_count": 4,
      "metadata": {
        "id": "m5bcjd0Lsb4f"
      },
      "outputs": [],
      "source": [
        "import qrcode\n",
        "\n",
        "def embed_image_to_qr(image_path, qr_filename):\n",
        "    with open(image_path, 'rb') as file:\n",
        "        binary_data = file.read()\n",
        "\n",
        "    qr = qrcode.QRCode(\n",
        "        version=40,\n",
        "        error_correction=qrcode.constants.ERROR_CORRECT_L\n",
        "    )\n",
        "    qr.add_data(binary_data, optimize=0)\n",
        "    qr.make()\n",
        "\n",
        "    qr_img = qr.make_image(fill_color=\"black\", back_color=\"white\")\n",
        "    qr_img.save(qr_filename)\n",
        "\n",
        "# Example Usage:\n",
        "embed_image_to_qr('image.bmp', 'qr_with_bmp.png')\n",
        "embed_image_to_qr('image.png', 'qr_with_png.png')\n"
      ]
    },
    {
      "cell_type": "markdown",
      "metadata": {},
      "source": [
        "## Approach 2: Convert Image to Base64 before embedding into QR"
      ]
    },
    {
      "cell_type": "code",
      "execution_count": 7,
      "metadata": {},
      "outputs": [],
      "source": [
        "import base64\n",
        "import qrcode\n",
        "\n",
        "def embed_image_to_qr(image_path, qr_filename):\n",
        "    # Read the image in binary mode and encode it to base64,\n",
        "    # ensuring that the resulting string is ASCII-only.\n",
        "    with open(image_path, 'rb') as file:\n",
        "        binary_data = file.read()\n",
        "    # Use 'ascii' decoding so that the base64 string contains only valid characters.\n",
        "    b64_data = base64.b64encode(binary_data).decode('ascii')\n",
        "    \n",
        "    # Create the QR code with the base64 string.\n",
        "    qr = qrcode.QRCode(\n",
        "        version=40,  # Maximum version for large data capacity\n",
        "        error_correction=qrcode.constants.ERROR_CORRECT_L\n",
        "    )\n",
        "    qr.add_data(b64_data, optimize=0)\n",
        "    qr.make()\n",
        "    \n",
        "    qr_img = qr.make_image(fill_color=\"black\", back_color=\"white\")\n",
        "    qr_img.save(qr_filename)\n",
        "\n",
        "# Example Usage:\n",
        "# For a PNG image:\n",
        "embed_image_to_qr('image.png', 'qr_with_png.png')\n",
        "# For a BMP image, you can use:\n",
        "embed_image_to_qr('image.bmp', 'qr_with_bmp.png')\n"
      ]
    }
  ],
  "metadata": {
    "colab": {
      "provenance": []
    },
    "kernelspec": {
      "display_name": "Python 3",
      "name": "python3"
    },
    "language_info": {
      "codemirror_mode": {
        "name": "ipython",
        "version": 3
      },
      "file_extension": ".py",
      "mimetype": "text/x-python",
      "name": "python",
      "nbconvert_exporter": "python",
      "pygments_lexer": "ipython3",
      "version": "3.12.7"
    }
  },
  "nbformat": 4,
  "nbformat_minor": 0
}
