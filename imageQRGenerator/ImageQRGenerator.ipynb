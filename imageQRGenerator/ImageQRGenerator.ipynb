{
  "nbformat": 4,
  "nbformat_minor": 0,
  "metadata": {
    "colab": {
      "provenance": []
    },
    "kernelspec": {
      "name": "python3",
      "display_name": "Python 3"
    },
    "language_info": {
      "name": "python"
    }
  },
  "cells": [
    {
      "cell_type": "markdown",
      "source": [
        "# Image in QR Code"
      ],
      "metadata": {
        "id": "nkC8YJlUskQw"
      }
    },
    {
      "cell_type": "markdown",
      "source": [
        "## Generate Monochrome BMP/Grayscale PNG"
      ],
      "metadata": {
        "id": "TXkpH4cBuEov"
      }
    },
    {
      "cell_type": "code",
      "source": [
        "!pip install pillow"
      ],
      "metadata": {
        "colab": {
          "base_uri": "https://localhost:8080/"
        },
        "id": "5Pz-lwqyuU9e",
        "outputId": "a9043ccd-2184-4348-9aa6-289b503b3aa2"
      },
      "execution_count": 3,
      "outputs": [
        {
          "output_type": "stream",
          "name": "stdout",
          "text": [
            "Requirement already satisfied: pillow in /usr/local/lib/python3.11/dist-packages (11.1.0)\n"
          ]
        }
      ]
    },
    {
      "cell_type": "code",
      "source": [
        "from PIL import Image, ImageDraw\n",
        "\n",
        "# Monochrome BMP example\n",
        "def create_monochrome_bmp(filename=\"image.bmp\", size=(100, 100)):\n",
        "    img = Image.new('1', size, color=1)  # 1-bit image, white background\n",
        "    draw = ImageDraw.Draw(img)\n",
        "    draw.rectangle([20, 20, 80, 80], fill=0)  # black rectangle\n",
        "    img.save(filename, format=\"BMP\")\n",
        "\n",
        "# Grayscale PNG example\n",
        "def create_grayscale_png(filename=\"image.png\", size=(100, 100)):\n",
        "    img = Image.new('L', size, color=255)  # 8-bit grayscale, white background\n",
        "    draw = ImageDraw.Draw(img)\n",
        "    draw.ellipse([25, 25, 75, 75], fill=128)  # gray circle\n",
        "    img.save(filename, format=\"PNG\")\n",
        "\n",
        "# Example Usage\n",
        "create_monochrome_bmp()\n",
        "create_grayscale_png()\n"
      ],
      "metadata": {
        "id": "SWOG3cyKuY7u"
      },
      "execution_count": 4,
      "outputs": []
    },
    {
      "cell_type": "markdown",
      "source": [
        "## Embed the Image in QR"
      ],
      "metadata": {
        "id": "SLyNyDQWunbT"
      }
    },
    {
      "cell_type": "code",
      "source": [
        "!pip install qrcode[pil]"
      ],
      "metadata": {
        "colab": {
          "base_uri": "https://localhost:8080/"
        },
        "id": "6xHPI6m5ssRZ",
        "outputId": "9ed647c6-e5e2-44ac-e74c-a4f074957098"
      },
      "execution_count": 6,
      "outputs": [
        {
          "output_type": "stream",
          "name": "stdout",
          "text": [
            "Requirement already satisfied: qrcode[pil] in /usr/local/lib/python3.11/dist-packages (8.0)\n",
            "Requirement already satisfied: pillow>=9.1.0 in /usr/local/lib/python3.11/dist-packages (from qrcode[pil]) (11.1.0)\n"
          ]
        }
      ]
    },
    {
      "cell_type": "code",
      "execution_count": 8,
      "metadata": {
        "id": "m5bcjd0Lsb4f"
      },
      "outputs": [],
      "source": [
        "import qrcode\n",
        "\n",
        "def embed_image_to_qr(image_path, qr_filename):\n",
        "    with open(image_path, 'rb') as file:\n",
        "        binary_data = file.read()\n",
        "\n",
        "    qr = qrcode.QRCode(\n",
        "        version=40,\n",
        "        error_correction=qrcode.constants.ERROR_CORRECT_L\n",
        "    )\n",
        "    qr.add_data(binary_data, optimize=0)\n",
        "    qr.make()\n",
        "\n",
        "    qr_img = qr.make_image(fill_color=\"black\", back_color=\"white\")\n",
        "    qr_img.save(qr_filename)\n",
        "\n",
        "# Example Usage:\n",
        "embed_image_to_qr('image.bmp', 'qr_with_bmp.png')\n",
        "embed_image_to_qr('image.png', 'qr_with_png.png')\n"
      ]
    }
  ]
}